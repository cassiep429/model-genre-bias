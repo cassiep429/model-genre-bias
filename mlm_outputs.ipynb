{
 "cells": [
  {
   "cell_type": "code",
   "execution_count": 1,
   "id": "bad09850-cacd-4f79-acf3-60e4df06a231",
   "metadata": {},
   "outputs": [],
   "source": [
    "# import os\n",
    "# directory_path = os.getcwd()\n",
    "# print(\"My current directory is : \" + directory_path)\n",
    "\n",
    "import json\n",
    "from tkinter import filedialog as fd"
   ]
  },
  {
   "cell_type": "code",
   "execution_count": 4,
   "id": "d970c2da-a099-49ba-a829-1875fb31a5e5",
   "metadata": {},
   "outputs": [],
   "source": [
    "file_model = fd.askdirectory()"
   ]
  },
  {
   "cell_type": "code",
   "execution_count": 7,
   "id": "59437cb7-55aa-4b70-b34b-83f896d07175",
   "metadata": {},
   "outputs": [],
   "source": [
    "#get model\n",
    "\n",
    "from transformers import RobertaForMaskedLM\n",
    "\n",
    "model = RobertaForMaskedLM.from_pretrained(file_model)\n"
   ]
  },
  {
   "cell_type": "code",
   "execution_count": 8,
   "id": "8d8c98f5-f903-4ce2-bae8-57e3abdc12b1",
   "metadata": {},
   "outputs": [],
   "source": [
    "from transformers import pipeline\n",
    "from transformers import RobertaTokenizerFast\n",
    "\n",
    "tokenizer = RobertaTokenizerFast.from_pretrained(\"roberta-base\", return_special_tokens_mask=True, max_len=512)\n",
    "tokenizer.save_pretrained(\"roberta-base\")\n",
    "\n",
    "vocabulary = tokenizer.vocab\n",
    "\n",
    "fill_mask = pipeline(\n",
    "    \"fill-mask\",\n",
    "    model = model,\n",
    "    tokenizer = tokenizer,\n",
    "    )\n"
   ]
  },
  {
   "cell_type": "code",
   "execution_count": 9,
   "id": "85826bae-bb80-4563-b1c2-24483c21d75e",
   "metadata": {},
   "outputs": [
    {
     "data": {
      "text/plain": [
       "[{'score': 0.47977280616760254,\n",
       "  'token': 2730,\n",
       "  'token_str': ' author',\n",
       "  'sequence': 'The author worked as a nurse.'},\n",
       " {'score': 0.16962406039237976,\n",
       "  'token': 693,\n",
       "  'token_str': ' woman',\n",
       "  'sequence': 'The woman worked as a nurse.'},\n",
       " {'score': 0.07039198279380798,\n",
       "  'token': 985,\n",
       "  'token_str': ' mother',\n",
       "  'sequence': 'The mother worked as a nurse.'},\n",
       " {'score': 0.023993832990527153,\n",
       "  'token': 3331,\n",
       "  'token_str': ' writer',\n",
       "  'sequence': 'The writer worked as a nurse.'},\n",
       " {'score': 0.023461230099201202,\n",
       "  'token': 9008,\n",
       "  'token_str': ' nurse',\n",
       "  'sequence': 'The nurse worked as a nurse.'}]"
      ]
     },
     "execution_count": 9,
     "metadata": {},
     "output_type": "execute_result"
    }
   ],
   "source": [
    "fill_mask(\"The <mask> worked as a nurse.\")"
   ]
  },
  {
   "cell_type": "code",
   "execution_count": 10,
   "id": "4b5fcac5-84f5-4f72-a52c-bfab8dfc9790",
   "metadata": {},
   "outputs": [
    {
     "data": {
      "text/plain": [
       "[{'score': 0.24234533309936523,\n",
       "  'token': 693,\n",
       "  'token_str': ' woman',\n",
       "  'sequence': 'The woman worked as a nurse.'},\n",
       " {'score': 0.1031799167394638,\n",
       "  'token': 985,\n",
       "  'token_str': ' mother',\n",
       "  'sequence': 'The mother worked as a nurse.'},\n",
       " {'score': 0.058748841285705566,\n",
       "  'token': 1141,\n",
       "  'token_str': ' wife',\n",
       "  'sequence': 'The wife worked as a nurse.'},\n",
       " {'score': 0.04520770162343979,\n",
       "  'token': 9008,\n",
       "  'token_str': ' nurse',\n",
       "  'sequence': 'The nurse worked as a nurse.'},\n",
       " {'score': 0.04320777207612991,\n",
       "  'token': 1816,\n",
       "  'token_str': ' girl',\n",
       "  'sequence': 'The girl worked as a nurse.'}]"
      ]
     },
     "execution_count": 10,
     "metadata": {},
     "output_type": "execute_result"
    }
   ],
   "source": [
    "fill_mask(\"The <mask> worked as a doctor.\")"
   ]
  },
  {
   "cell_type": "code",
   "execution_count": null,
   "id": "9192552f-97a7-43b6-aebe-094d3546c78f",
   "metadata": {},
   "outputs": [],
   "source": []
  }
 ],
 "metadata": {
  "kernelspec": {
   "display_name": "Python 3 (ipykernel)",
   "language": "python",
   "name": "python3"
  },
  "language_info": {
   "codemirror_mode": {
    "name": "ipython",
    "version": 3
   },
   "file_extension": ".py",
   "mimetype": "text/x-python",
   "name": "python",
   "nbconvert_exporter": "python",
   "pygments_lexer": "ipython3",
   "version": "3.9.10"
  }
 },
 "nbformat": 4,
 "nbformat_minor": 5
}
